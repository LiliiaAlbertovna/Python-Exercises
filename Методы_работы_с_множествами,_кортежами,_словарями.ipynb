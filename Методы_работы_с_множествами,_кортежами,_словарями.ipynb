{
  "nbformat": 4,
  "nbformat_minor": 0,
  "metadata": {
    "colab": {
      "provenance": [],
      "authorship_tag": "ABX9TyOiYxXHGkD6OlMzwxaAQYlO",
      "include_colab_link": true
    },
    "kernelspec": {
      "name": "python3",
      "display_name": "Python 3"
    },
    "language_info": {
      "name": "python"
    }
  },
  "cells": [
    {
      "cell_type": "markdown",
      "metadata": {
        "id": "view-in-github",
        "colab_type": "text"
      },
      "source": [
        "<a href=\"https://colab.research.google.com/github/LiliiaAlbertovna/Python-Exercises/blob/main/%D0%9C%D0%B5%D1%82%D0%BE%D0%B4%D1%8B_%D1%80%D0%B0%D0%B1%D0%BE%D1%82%D1%8B_%D1%81_%D0%BC%D0%BD%D0%BE%D0%B6%D0%B5%D1%81%D1%82%D0%B2%D0%B0%D0%BC%D0%B8%2C_%D0%BA%D0%BE%D1%80%D1%82%D0%B5%D0%B6%D0%B0%D0%BC%D0%B8%2C_%D1%81%D0%BB%D0%BE%D0%B2%D0%B0%D1%80%D1%8F%D0%BC%D0%B8.ipynb\" target=\"_parent\"><img src=\"https://colab.research.google.com/assets/colab-badge.svg\" alt=\"Open In Colab\"/></a>"
      ]
    },
    {
      "cell_type": "markdown",
      "source": [
        "# Методы работы с множествами, кортежами, словарями\n",
        "1. С клавиатуры вводится количество стран K. Затем вводится  K строк, в каждой из которых указывается название страны и список городов в этой стране через пробел. Затем пользователь вводит 3 названия городов, после чего программа сообщает, в какой стране они находятся. Если такого города нет, то вывести соответствующее сообщение.\n",
        "#### Пример:\n",
        "\n",
        "```\n",
        "Кол-во стран: 2\n",
        "1 страна: Россия Москва Петербург Новгород\n",
        "2 страна: Германия Берлин Лейпциг Мюнхен\n",
        "\n",
        "1 город: Москва\n",
        "Город Москва расположен в стране Россия.\n",
        "\n",
        "2 город: Мюнхен\n",
        "Город Мюнхен расположен в стране Германия.\n",
        "\n",
        "3 город: Рим\n",
        "По городу Рим данных нет.\n",
        "\n",
        "```\n",
        "\n",
        "\n",
        "\n"
      ],
      "metadata": {
        "id": "IsIYOsWmKvjv"
      }
    },
    {
      "cell_type": "code",
      "source": [
        "k = int(input(\"Кол-во стран: \"))\n",
        "\n",
        "countries = {}\n",
        "\n",
        "for i in range(k):\n",
        "    data = input(f\"{i+1} страна: \").split()\n",
        "    country = data[0]\n",
        "    cities = data[1:]\n",
        "    for city in cities:\n",
        "        countries[city] = country\n",
        "\n",
        "# Вводим и обрабатываем три названия городов\n",
        "for i in range(3):\n",
        "    city = input(f\"{i+1} город: \")\n",
        "    if city in countries:\n",
        "        print(f\"Город {city} расположен в стране {countries[city]}.\")\n",
        "    else:\n",
        "        print(f\"По городу {city} данных нет.\")"
      ],
      "metadata": {
        "colab": {
          "base_uri": "https://localhost:8080/"
        },
        "id": "gveeNK-RK88Y",
        "outputId": "491cdf42-dd82-4f2b-fb1f-c8d2d51aab69"
      },
      "execution_count": null,
      "outputs": [
        {
          "output_type": "stream",
          "name": "stdout",
          "text": [
            "Кол-во стран: 2\n",
            "1 страна: Россия Москва Петербург Новгород\n",
            "2 страна: Германия Берлин Лейпциг Мюнхен\n",
            "1 город: Москва\n",
            "Город Москва расположен в стране Россия.\n",
            "2 город: Мюнхен\n",
            "Город Мюнхен расположен в стране Германия.\n",
            "3 город: Рим\n",
            "По городу Рим данных нет.\n"
          ]
        }
      ]
    },
    {
      "cell_type": "markdown",
      "source": [
        "2. В пиццерии хранится информация о том, кто, что и сколько заказывал у них в определённый период. Нужно структурировать эту информацию, а также понять сколько всего пицц купил каждый заказчик. На вход в программу подаётся N заказов. Каждый заказ представляет собой строку вида Покупатель - название пиццы - количество заказанных пицц. Реализуйте код, который выводит список покупателей и их заказов по алфавиту. Учитывайте, что один человек может заказать одно и то же несколько раз\n",
        "\n",
        "Пример:\n",
        "```\n",
        "Введите кол-во заказов: 6\n",
        "1 заказ: Иванов Пепперони 1\n",
        "2 заказ: Петров Де-Люкс 2\n",
        "3 заказ: Иванов Мясная 3\n",
        "4 заказ: Иванов Мексиканская 2\n",
        "5 заказ: Иванов Пепперони 2\n",
        "6 заказ: Петров Интересная 5\n",
        "\n",
        "Иванов:\n",
        "\tМексиканская: 2\n",
        "\tМясная: 3\n",
        "\tПепперони: 3\n",
        "Петров:\n",
        "\tДе-Люкс: 2\n",
        "\tИнтересная: 5\n",
        "```\n"
      ],
      "metadata": {
        "id": "gmlrTauaMEIU"
      }
    },
    {
      "cell_type": "code",
      "source": [
        "n = int(input(\"Введите кол-во заказов: \"))\n",
        "\n",
        "orders = {}\n",
        "\n",
        "for i in range(n):\n",
        "    data = input(f\"{i+1} заказ: \").split()\n",
        "\n",
        "    if len(data) != 3:\n",
        "        print(f\"Ошибка ввода в заказе {i+1}. Ожидается формат: Покупатель Пицца Количество.\")\n",
        "        continue\n",
        "\n",
        "    buyer = data[0]\n",
        "    pizza = data[1]\n",
        "    try:\n",
        "        quantity = int(data[2])\n",
        "    except ValueError:\n",
        "        print(f\"Ошибка: количество пицц должно быть числом в заказе {i+1}.\")\n",
        "        continue\n",
        "\n",
        "    # Если покупателя нет в словаре, добавляем его\n",
        "    if buyer not in orders:\n",
        "        orders[buyer] = {}\n",
        "\n",
        "    # Если пицца уже заказана ранее, увеличиваем количество, иначе добавляем пиццу\n",
        "    if pizza in orders[buyer]:\n",
        "        orders[buyer][pizza] += quantity\n",
        "    else:\n",
        "        orders[buyer][pizza] = quantity\n",
        "\n",
        "for buyer in sorted(orders.keys()):\n",
        "    print(f\"{buyer}:\")\n",
        "    for pizza, quantity in orders[buyer].items():\n",
        "        print(f\"\\t{pizza}: {quantity}\")"
      ],
      "metadata": {
        "colab": {
          "base_uri": "https://localhost:8080/"
        },
        "id": "kgm6CtehXNFk",
        "outputId": "9023ec56-d2c4-41fb-da0e-2ba30145eda6"
      },
      "execution_count": null,
      "outputs": [
        {
          "output_type": "stream",
          "name": "stdout",
          "text": [
            "Введите кол-во заказов: 6\n",
            "1 заказ: Иванов Пепперони 1\n",
            "2 заказ: Петров Де-Люкс 2\n",
            "3 заказ: Иванов Мясная 3\n",
            "4 заказ: Иванов Мексиканская 2\n",
            "5 заказ: Иванов Пепперони 2\n",
            "6 заказ: Петров Интересная 5\n",
            "Иванов:\n",
            "\tПепперони: 3\n",
            "\tМясная: 3\n",
            "\tМексиканская: 2\n",
            "Петров:\n",
            "\tДе-Люкс: 2\n",
            "\tИнтересная: 5\n"
          ]
        }
      ]
    },
    {
      "cell_type": "markdown",
      "source": [
        "3. Есть некоторое дерево родственных связей. В нем у каждого человека указан только один родитель (за исключением одного человека, который будет корнем дерева). Каждому элементу дерева сопоставляется целое неотрицательное число, называемое высотой. У родоначальника высота равна 0, у любого другого элемента высота на 1 больше, чем у его родителя. Вам нужно написать программу, которая по заданному генеалогическому древу определяет высоту всех его элементов.\n",
        "Программа получает на вход количество человек в генеалогическом древе N. Далее следует N−1 строка, задающие родителя для каждого элемента дерева, кроме родоначальника. Каждая строка имеет вид имя_потомка имя_родителя.\n",
        "Программа должна вывести список всех элементов древа в лексикографическом порядке (по алфавиту). После вывода имени каждого элемента необходимо вывести его высоту.\n",
        "\n",
        "Пример:\n",
        "```\n",
        "Введите количество человек: 9\n",
        "1 пара: Alexei Peter_I\n",
        "2 пара: Anna Peter_I\n",
        "3 пара: Elizabeth Peter_I\n",
        "4 пара: Peter_II Alexei\n",
        "5 пара: Peter_III Anna\n",
        "6 пара: Paul_I Peter_III\n",
        "7 пара: Alexander_I Paul_I\n",
        "8 пара: Nicholaus_I Paul_I\n",
        "\n",
        "“Высота” каждого члена семьи:\n",
        "Alexander_I 4\n",
        "Alexei 1\n",
        "Anna 1\n",
        "Elizabeth 1\n",
        "Nicholaus_I 4\n",
        "Paul_I 3\n",
        "Peter_I 0\n",
        "Peter_II 2\n",
        "Peter_III 2\n"
      ],
      "metadata": {
        "id": "ejn92URWYhJ2"
      }
    },
    {
      "cell_type": "code",
      "source": [
        "n = int(input(\"Введите количество человек: \"))\n",
        "\n",
        "parent_map = {}\n",
        "\n",
        "for i in range(n - 1):\n",
        "    descendant, parent = input(f\"{i+1} пара: \").split()\n",
        "    parent_map[descendant] = parent\n",
        "\n",
        "# Функция для рекурсивного вычисления высоты человека\n",
        "def calculate_height(person, height_map):\n",
        "    if person in height_map:\n",
        "        return height_map[person]\n",
        "    if person not in parent_map:\n",
        "        height_map[person] = 0\n",
        "        return 0\n",
        "    # Высота человека = высота его родителя + 1\n",
        "    height_map[person] = calculate_height(parent_map[person], height_map) + 1\n",
        "    return height_map[person]\n",
        "\n",
        "# Множество всех людей (включает как потомков, так и родителей)\n",
        "people = set(parent_map.keys()).union(set(parent_map.values()))\n",
        "\n",
        "height_map = {}\n",
        "\n",
        "for person in people:\n",
        "    calculate_height(person, height_map)\n",
        "\n",
        "print(\"\\n“Высота” каждого члена семьи:\")\n",
        "for person in sorted(people):\n",
        "    print(f\"{person} {height_map[person]}\")"
      ],
      "metadata": {
        "colab": {
          "base_uri": "https://localhost:8080/"
        },
        "id": "3GW4LZ-zYoh_",
        "outputId": "74b74f2a-c26d-4152-a0fc-6fc864286979"
      },
      "execution_count": null,
      "outputs": [
        {
          "output_type": "stream",
          "name": "stdout",
          "text": [
            "Введите количество человек: 9\n",
            "1 пара: Alexei Peter_I\n",
            "2 пара: Anna Peter_I\n",
            "3 пара: Elizabeth Peter_I\n",
            "4 пара: Peter_II Alexei\n",
            "5 пара: Peter_III Anna\n",
            "6 пара: Paul_I Peter_III\n",
            "7 пара: Alexander_I Paul_I\n",
            "8 пара: Nicholaus_I Paul_I\n",
            "\n",
            "“Высота” каждого члена семьи:\n",
            "Alexander_I 4\n",
            "Alexei 1\n",
            "Anna 1\n",
            "Elizabeth 1\n",
            "Nicholaus_I 4\n",
            "Paul_I 3\n",
            "Peter_I 0\n",
            "Peter_II 2\n",
            "Peter_III 2\n"
          ]
        }
      ]
    }
  ]
}